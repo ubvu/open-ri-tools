{
 "cells": [
  {
   "cell_type": "code",
   "execution_count": null,
   "id": "88d65d7c-6ebf-428d-97ff-3b316c5b0d86",
   "metadata": {},
   "outputs": [],
   "source": [
    "import panel as pn\n",
    "pn.extension()\n",
    "\n",
    "import requests"
   ]
  },
  {
   "cell_type": "code",
   "execution_count": null,
   "id": "027efc1e-498e-4502-b279-5639b8aad61e",
   "metadata": {},
   "outputs": [],
   "source": [
    "def get_citing_pmids(doi):\n",
    "    \n",
    "    base_url_works = 'https://api.openalex.org/works'\n",
    "    \n",
    "    # get work id\n",
    "    params = {'filter': f'doi:{doi}'}\n",
    "    r = requests.get(base_url_works, params)\n",
    "    data = r.json()\n",
    "    work_id = data['results'][0]['id']  # if multiple, take first\n",
    "    work_id = work_id.replace('https://openalex.org/', '')\n",
    "    \n",
    "    # obtain citing documents/pmids\n",
    "    params = {'filter': f'cites:{work_id}',\n",
    "              'cursor': '*', 'per-page': 100}\n",
    "    pmids = set()\n",
    "    done = False\n",
    "    while not done:\n",
    "        r = requests.get(base_url_works, params)\n",
    "        data = r.json()\n",
    "        for work in data['results']:\n",
    "            pmid = work['ids'].get('pmid')\n",
    "            if pmid:\n",
    "                pmids.add(pmid.replace('https://pubmed.ncbi.nlm.nih.gov/', ''))\n",
    "        if data['meta']['next_cursor']:\n",
    "            params['cursor'] = data['meta']['next_cursor']\n",
    "        else:\n",
    "            done = True\n",
    "    \n",
    "    return list(pmids)"
   ]
  },
  {
   "cell_type": "code",
   "execution_count": null,
   "id": "36d54d9c-5586-4ba8-984a-1150b63082b5",
   "metadata": {},
   "outputs": [],
   "source": [
    "def get_clinical_trials(pmids):\n",
    "    \n",
    "    search_url = 'https://eutils.ncbi.nlm.nih.gov/entrez/eutils/esearch.fcgi'\n",
    "    \n",
    "    query = ' OR '.join([f'{pmid}[pmid]' for pmid in pmids]) + ' AND (clinicaltrial[Filter])'\n",
    "                                                                     \n",
    "    data = {'term': query.encode('utf-8'), 'db': 'pubmed', 'retmax': 10000, 'retmode': 'json'}\n",
    "    # https://stackoverflow.com/questions/55887958/what-is-the-default-encoding-when-python-requests-post-data-is-string-type\n",
    "    headers={'Content-Type': 'application/x-www-form-urlencoded; charset=utf-8',\n",
    "             'Accept': 'application/json'}\n",
    "    r = requests.post(search_url, data=data, headers=headers)\n",
    "    data = r.json()['esearchresult']\n",
    "    \n",
    "    return data['idlist']"
   ]
  },
  {
   "cell_type": "code",
   "execution_count": null,
   "id": "9029ac30-2cc3-4a15-923d-31524854fd84",
   "metadata": {},
   "outputs": [],
   "source": [
    "def get_metric(doi):\n",
    "    pmids = get_citing_pmids(doi)\n",
    "    pmids_t =  get_clinical_trials(pmids)\n",
    "    return round(len(pmids_t)/len(pmids)*100,2)  "
   ]
  },
  {
   "cell_type": "code",
   "execution_count": null,
   "id": "d3601057-d70a-456b-a1bb-109218638bfc",
   "metadata": {},
   "outputs": [],
   "source": [
    "# Test\n",
    "#doi = '10.1136/annrheumdis-2019-216655'  # this article is cited by at least 1 clinical trial\n",
    "#get_metric(doi)"
   ]
  },
  {
   "cell_type": "code",
   "execution_count": null,
   "id": "064c58d7-e6a4-4d08-bce3-208ab6449b4d",
   "metadata": {},
   "outputs": [],
   "source": [
    "output_status = pn.pane.Str('')\n",
    "output_ratio = pn.indicators.Number(name='Ratio', value=0, format='{value}%')\n",
    "input_doi = pn.widgets.TextInput(placeholder='Enter DOI here...')\n",
    "\n",
    "def callback(target, event):\n",
    "    target.object = 'Search in progress...'\n",
    "    ratio = get_metric(event.new.strip())\n",
    "    output_ratio.value = ratio\n",
    "    target.object = 'Done'\n",
    "    \n",
    "input_doi.link(output_status, callbacks={'value': callback});"
   ]
  },
  {
   "cell_type": "code",
   "execution_count": null,
   "id": "3049e92e-6858-4f6d-a2c4-ebc8648ac711",
   "metadata": {},
   "outputs": [],
   "source": [
    "template = pn.template.BootstrapTemplate(\n",
    "    title='Is my research used in clinical trials?'\n",
    ")\n",
    "template.main.append(\n",
    "    pn.Column(\n",
    "        input_doi,\n",
    "        output_status,\n",
    "        output_ratio\n",
    "    )\n",
    ")\n",
    "\n",
    "template.servable();  # ; to prevent inline output / use preview instead"
   ]
  }
 ],
 "metadata": {
  "kernelspec": {
   "display_name": "Python 3 (ipykernel)",
   "language": "python",
   "name": "python3"
  },
  "language_info": {
   "codemirror_mode": {
    "name": "ipython",
    "version": 3
   },
   "file_extension": ".py",
   "mimetype": "text/x-python",
   "name": "python",
   "nbconvert_exporter": "python",
   "pygments_lexer": "ipython3",
   "version": "3.11.4"
  }
 },
 "nbformat": 4,
 "nbformat_minor": 5
}
