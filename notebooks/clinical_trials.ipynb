{
 "cells": [
  {
   "cell_type": "code",
   "execution_count": null,
   "id": "88d65d7c-6ebf-428d-97ff-3b316c5b0d86",
   "metadata": {},
   "outputs": [],
   "source": [
    "import panel as pn\n",
    "import pandas as pd\n",
    "import requests\n",
    "\n",
    "pn.extension('plotly', 'tabulator')"
   ]
  },
  {
   "cell_type": "markdown",
   "id": "b9e8cd1a-9361-4979-9f45-9a04442d7058",
   "metadata": {},
   "source": [
    "## Functions"
   ]
  },
  {
   "cell_type": "code",
   "execution_count": null,
   "id": "027efc1e-498e-4502-b279-5639b8aad61e",
   "metadata": {},
   "outputs": [],
   "source": [
    "def get_citing(doi):\n",
    "    \n",
    "    base_url_works = 'https://api.openalex.org/works'\n",
    "    df = pd.DataFrame()\n",
    "    \n",
    "    # get work id\n",
    "    params = {'filter': f'doi:{doi}'}\n",
    "    r = requests.get(base_url_works, params)\n",
    "    if r.status_code == 200:\n",
    "        data = r.json()\n",
    "        if len(data['results']) > 0:\n",
    "            work_id = data['results'][0]['id']  # if multiple, take first\n",
    "            work_id = work_id.replace('https://openalex.org/', '')\n",
    "            \n",
    "            # obtain citing documents/pmids\n",
    "            params = {'filter': f'cites:{work_id}',\n",
    "                      'cursor': '*', 'per-page': 100}\n",
    "            records = []\n",
    "            done = False\n",
    "            while not done:\n",
    "                r = requests.get(base_url_works, params)\n",
    "                data = r.json()\n",
    "                for work in data['results']:\n",
    "                    record = {\n",
    "                        'title': work.get('title'),\n",
    "                        'year': work.get('publication_year'),\n",
    "                        'doi': work.get('doi'),\n",
    "                        'pmid': work['ids'].get('pmid')\n",
    "                    }\n",
    "                    records.append(record)\n",
    "                if data['meta']['next_cursor']:\n",
    "                    params['cursor'] = data['meta']['next_cursor']\n",
    "                else:\n",
    "                    done = True\n",
    "    df = pd.DataFrame(records)        \n",
    "    return df"
   ]
  },
  {
   "cell_type": "code",
   "execution_count": null,
   "id": "36d54d9c-5586-4ba8-984a-1150b63082b5",
   "metadata": {},
   "outputs": [],
   "source": [
    "def get_clinical_trials(pmids):\n",
    "    \n",
    "    search_url = 'https://eutils.ncbi.nlm.nih.gov/entrez/eutils/esearch.fcgi'\n",
    "    \n",
    "    query = ' OR '.join([f'{pmid}[pmid]' for pmid in pmids]) + ' AND (clinicaltrial[Filter])'\n",
    "                                                                     \n",
    "    data = {'term': query.encode('utf-8'), 'db': 'pubmed', 'retmax': 10000, 'retmode': 'json'}\n",
    "    # https://stackoverflow.com/questions/55887958/what-is-the-default-encoding-when-python-requests-post-data-is-string-type\n",
    "    headers={'Content-Type': 'application/x-www-form-urlencoded; charset=utf-8',\n",
    "             'Accept': 'application/json'}\n",
    "    r = requests.post(search_url, data=data, headers=headers)\n",
    "    data = r.json()['esearchresult']\n",
    "    \n",
    "    return data['idlist']"
   ]
  },
  {
   "cell_type": "code",
   "execution_count": null,
   "id": "bd78b570-0955-49df-8797-023ace733d92",
   "metadata": {},
   "outputs": [],
   "source": [
    "def get_data(doi):\n",
    "    df = get_citing(doi)\n",
    "    if not df.empty:\n",
    "        df['pmid'] = df.pmid.apply(lambda x: \n",
    "                                   x.replace('https://pubmed.ncbi.nlm.nih.gov/', '')\n",
    "                                   if not pd.isna(x) else x)\n",
    "        pmids = df.pmid.dropna().to_list()\n",
    "        pmids_trial = get_clinical_trials(pmids)\n",
    "        df['is_trial'] = df.pmid.isin(pmids_trial)\n",
    "    return df"
   ]
  },
  {
   "cell_type": "code",
   "execution_count": null,
   "id": "5567089c-2789-4b3c-9a48-d6acf9321ea1",
   "metadata": {},
   "outputs": [],
   "source": [
    "# create df to load when application starts; store in repo and fetch from url\n",
    "#df = get_data('10.1136/annrheumdis-2019-216655')\n",
    "#df.to_csv('../data/clinical_trials_default.csv')"
   ]
  },
  {
   "cell_type": "markdown",
   "id": "2d1e4ac6-72d7-4b12-8898-0689c64ced05",
   "metadata": {},
   "source": [
    "## Load (default) data"
   ]
  },
  {
   "cell_type": "code",
   "execution_count": null,
   "id": "a17efb57-ce51-4b9e-92dc-7efe0cfb5a99",
   "metadata": {},
   "outputs": [],
   "source": [
    "df = pd.read_csv('https://raw.githubusercontent.com/ubvu/open-ri-tools/main/data/clinical_trials_default.csv', index_col=0)"
   ]
  },
  {
   "cell_type": "markdown",
   "id": "9f563913-2d57-450a-a5bd-54588147b0c7",
   "metadata": {},
   "source": [
    "## Plots"
   ]
  },
  {
   "cell_type": "code",
   "execution_count": null,
   "id": "2b8d3856-a6ed-4acd-8f76-ca94524870ec",
   "metadata": {},
   "outputs": [],
   "source": [
    "import plotly.express as px"
   ]
  },
  {
   "cell_type": "code",
   "execution_count": null,
   "id": "c17d3836-56e9-4552-ab94-3653a3fd0795",
   "metadata": {},
   "outputs": [],
   "source": [
    "def plot_citations(df):\n",
    "    agg = df.groupby(['year', 'is_trial'], as_index=False).title.count()\n",
    "    fig = px.bar(agg, x=\"year\", y=\"title\", color='is_trial',\n",
    "                 labels={'title': 'Citations', 'year': 'Year'},\n",
    "                 template=\"simple_white\")\n",
    "    return fig"
   ]
  },
  {
   "cell_type": "markdown",
   "id": "b0c63e66-b2a9-4598-b8cd-439d0fb6638b",
   "metadata": {},
   "source": [
    "## Components"
   ]
  },
  {
   "cell_type": "code",
   "execution_count": null,
   "id": "99d9be10-db75-4c83-bb13-2dd0b06637eb",
   "metadata": {},
   "outputs": [],
   "source": [
    "# Text boxes\n",
    "text_box_doi = pn.widgets.TextInput(placeholder='Enter DOI here...')\n",
    "text_box_status = pn.pane.Str('')\n",
    "\n",
    "# Citation plot\n",
    "pane_plot_citations = pn.pane.Plotly(plot_citations(df), config={\"responsive\": False})\n",
    "\n",
    "# pie chart ratio trials (from pubmed records)\n",
    "#trials_pie =\n",
    "\n",
    "# publications table\n",
    "#trials_table = pn.pane.DataFrame(df, index=False, render_links=True, sizing_mode=\"stretch_both\")\n",
    "formatters = {\n",
    "    'doi': {'type': 'link', 'label': 'open', 'target': \"_blank\"},\n",
    "    'pmid': {'type': 'link', 'urlPrefix': 'https://pubmed.ncbi.nlm.nih.gov/', 'label': 'open', 'target': \"_blank\"},\n",
    "    'is_trial': {'type': 'tickCross'},\n",
    "    'year': {'type': 'int'}\n",
    "}\n",
    "widget_table = pn.widgets.Tabulator(df, formatters=formatters, sizing_mode=\"stretch_both\",\n",
    "                                    widths={'index': '5%', 'title': '30%', 'year': '20%', 'doi': '15%', 'pmid': '15%', 'is_trial': '15'})"
   ]
  },
  {
   "cell_type": "code",
   "execution_count": null,
   "id": "de8a3a65-485f-4352-adeb-af23e51dabe2",
   "metadata": {},
   "outputs": [],
   "source": [
    "# test\n",
    "#pane_plot_citations.servable()"
   ]
  },
  {
   "cell_type": "code",
   "execution_count": null,
   "id": "a5a9c95c-afde-4d59-a182-00d3bc8cf3ba",
   "metadata": {},
   "outputs": [],
   "source": [
    "# test\n",
    "#widget_table = pn.widgets.Tabulator(df[['doi', 'pmid']], formatters=formatters)\n",
    "#widget_table.servable()"
   ]
  },
  {
   "cell_type": "markdown",
   "id": "6879a15a-fe6f-4645-9c4b-6eb18edaa68d",
   "metadata": {},
   "source": [
    "## Interactivity"
   ]
  },
  {
   "cell_type": "code",
   "execution_count": null,
   "id": "00b42ac9-b1be-4b62-bf47-f2ba80cc4af6",
   "metadata": {},
   "outputs": [],
   "source": [
    "# # plotly click_data does not work at this point:\n",
    "# # https://github.com/holoviz/panel/issues/5096\n",
    "# @pn.depends(citation_years.param.click_data, watch=True)\n",
    "# def trials_table(event, df=df):\n",
    "#     try:\n",
    "#         year = round(event[\"points\"][0][\"x\"],0)\n",
    "#     except:\n",
    "#         year = 2021\n",
    "#     dff = df[df.year==year]\n",
    "#     return pn.pane.DataFrame(dff, index=False, render_links=True, sizing_mode=\"stretch_both\")"
   ]
  },
  {
   "cell_type": "code",
   "execution_count": null,
   "id": "8c2337cd-7ccb-491e-bc73-a3b6e0dc4ccd",
   "metadata": {},
   "outputs": [],
   "source": [
    "# table filter\n",
    "cb_trial = pn.widgets.Checkbox(name='show clinical trials')\n",
    "#slider_year = pn.widgets.IntSlider(name='year')\n",
    "# TODO slider has to be linked (.bind) to the df\n",
    "\n",
    "widget_table.add_filter(cb_trial, 'is_trial')\n",
    "#widget_table.add_filter(slider_year, 'year')"
   ]
  },
  {
   "cell_type": "code",
   "execution_count": null,
   "id": "03cc3fd6-7bf3-4c05-9c9e-26a496219fc2",
   "metadata": {},
   "outputs": [],
   "source": [
    "# test\n",
    "#pn.Column(cb_trial, widget_table).servable()"
   ]
  },
  {
   "cell_type": "code",
   "execution_count": null,
   "id": "064c58d7-e6a4-4d08-bce3-208ab6449b4d",
   "metadata": {},
   "outputs": [],
   "source": [
    "# Entering a DOI\n",
    "def callback(target, event):\n",
    "    target.object = 'Search in progress...'\n",
    "    df = get_data(event.new.strip())\n",
    "    if df.empty:\n",
    "        target.object = 'Invalid DOI or no data available'  \n",
    "    else:\n",
    "        pane_plot_citations.object = plot_citations(df)\n",
    "        # df[~pd.isna(df.pmid)]\n",
    "        widget_table.value = df \n",
    "        target.object = 'Done'\n",
    "        \n",
    "text_box_doi.link(text_box_status, callbacks={'value': callback});"
   ]
  },
  {
   "cell_type": "markdown",
   "id": "417758d7-423a-4720-b9ef-ef837baff88f",
   "metadata": {},
   "source": [
    "## Layout"
   ]
  },
  {
   "cell_type": "code",
   "execution_count": null,
   "id": "3049e92e-6858-4f6d-a2c4-ebc8648ac711",
   "metadata": {},
   "outputs": [],
   "source": [
    "template = pn.template.BootstrapTemplate(\n",
    "    title='Is my research used in clinical trials?'\n",
    ")\n",
    "template.main.append(\n",
    "    pn.Row(\n",
    "        pn.Column(\n",
    "            text_box_doi,\n",
    "            text_box_status,\n",
    "            pane_plot_citations\n",
    "        ),\n",
    "        pn.Column(\n",
    "            #pn.pane.Markdown('## Clinical Trials:'),\n",
    "            #trials_pie,\n",
    "            cb_trial,\n",
    "            widget_table\n",
    "        )\n",
    "    )\n",
    ")\n",
    "\n",
    "template.servable();  # ; to prevent inline output / use preview instead"
   ]
  },
  {
   "cell_type": "code",
   "execution_count": null,
   "id": "54bdd20d-a207-4f8a-9c9c-a4f026b03872",
   "metadata": {},
   "outputs": [],
   "source": []
  }
 ],
 "metadata": {
  "kernelspec": {
   "display_name": "Python 3 (ipykernel)",
   "language": "python",
   "name": "python3"
  },
  "language_info": {
   "codemirror_mode": {
    "name": "ipython",
    "version": 3
   },
   "file_extension": ".py",
   "mimetype": "text/x-python",
   "name": "python",
   "nbconvert_exporter": "python",
   "pygments_lexer": "ipython3",
   "version": "3.11.4"
  }
 },
 "nbformat": 4,
 "nbformat_minor": 5
}
