{
 "cells": [
  {
   "cell_type": "code",
   "execution_count": null,
   "id": "f44ffa2c",
   "metadata": {},
   "outputs": [],
   "source": [
    "import panel as pn\n",
    "\n",
    "import requests\n",
    "import json\n",
    "import pandas as pd\n",
    "from pyalex import Works\n",
    "\n",
    "import hvplot.networkx as hvnx\n",
    "import networkx as nx\n",
    "\n",
    "pn.extension('tabulator', 'plotly')"
   ]
  },
  {
   "cell_type": "markdown",
   "id": "94ddce8f",
   "metadata": {},
   "source": [
    "## Backend"
   ]
  },
  {
   "cell_type": "markdown",
   "id": "4a419046",
   "metadata": {},
   "source": [
    "### Find author (autocomplete)"
   ]
  },
  {
   "cell_type": "code",
   "execution_count": null,
   "id": "1e309d01",
   "metadata": {},
   "outputs": [],
   "source": [
    "def suggest_authors(name_part):\n",
    "\n",
    "    if name_part:\n",
    "        url_author_ac = 'https://api.openalex.org/autocomplete/authors'\n",
    "        params = {'q': name_part}\n",
    "        \n",
    "        r = requests.get(url_author_ac, params=params)\n",
    "        #if r.status_code == 200:\n",
    "        return pd.DataFrame(r.json()['results'])\n",
    "    else:\n",
    "        return pd.DataFrame()"
   ]
  },
  {
   "cell_type": "markdown",
   "id": "ba291b1e",
   "metadata": {},
   "source": [
    "### Find coauthors / create network"
   ]
  },
  {
   "cell_type": "code",
   "execution_count": null,
   "id": "e38186eb",
   "metadata": {},
   "outputs": [],
   "source": [
    "def fetch_works(author_ids, fields):\n",
    "    works = []\n",
    "    works_pages = Works().filter(author={\"id\": '|'.join(author_ids)}).select(fields).paginate(per_page=200)\n",
    "    for works_page in works_pages:\n",
    "        works.extend(works_page)\n",
    "    return works\n",
    "\n",
    "\n",
    "def coauthor_net(works, author_ids, author_name, depth=1, edges=None, labels=None):\n",
    "    '''\n",
    "    author_ids: only the first is used as node id\n",
    "    TODO depth=2: coauthors of coauthors\n",
    "    '''\n",
    "\n",
    "    # default arguments are evaluated at def i.e. lists will be re-used in each call\n",
    "    # use None instead, create list at runtime\n",
    "    if edges is None:\n",
    "        edges = []\n",
    "    if labels is None:\n",
    "        labels = {}\n",
    "    \n",
    "    # add name for self\n",
    "    # for recursive calls: we've already added it \n",
    "    if author_ids[0] not in labels:\n",
    "        labels[author_ids[0]] = author_name\n",
    "    \n",
    "    coauthor_ids = set()  # for recursive calls\n",
    "    for work in works:\n",
    "        for authorship in work['authorships']:\n",
    "            aid = authorship['author'].get('id')\n",
    "            if aid not in author_ids:  # don't add self reference\n",
    "                coauthor_ids.add(aid)\n",
    "                name = authorship['author'].get('display_name')\n",
    "                if name:  # without a name, don't include in network\n",
    "                    edges.append({'n1': author_ids[0], 'n2': aid, 'type': 'works_with'})\n",
    "                    if aid not in labels:\n",
    "                        labels[aid] = name\n",
    "            else:  # only add affiliation\n",
    "                aid = author_ids[0]\n",
    "                name = author_name\n",
    "            if name:\n",
    "                # institutes\n",
    "                for institute in authorship['institutions']:\n",
    "                    iid = institute.get('id')\n",
    "                    iname = institute.get('display_name')\n",
    "                    if iid and iname:\n",
    "                        edges.append({'n1': aid, 'n2': iid, 'type': 'works_at'})\n",
    "                        if iid not in labels:\n",
    "                            labels[iid] = iname\n",
    "\n",
    "    #if depth > 1:\n",
    "    #    for aid in coauthor_ids:\n",
    "    #        coauthor_net(works, [aid], labels[aid], depth-1, edges, labels)\n",
    "\n",
    "    return pd.DataFrame(edges), labels\n",
    "\n",
    "\n",
    "def extract_affiliations(edges, author_ids):\n",
    "    e_prim = edges.copy()[(edges.type=='works_at') & (edges.n1 == author_ids[0])]  # primary affiliations\n",
    "    # connect co-author affiliations to main author (secondary affiliations)\n",
    "    e_scnd =  edges.copy()[(edges.type=='works_at') & (edges.n1 != author_ids[0])]\n",
    "    e_scnd['type'] = 'related_to'\n",
    "    e_scnd['n1'] = author_ids[0]\n",
    "    # primary over secondary\n",
    "    e_scnd = e_scnd[~e_scnd.n2.isin(e_prim.n2)]\n",
    "    return pd.concat([e_prim, e_scnd], axis=0).drop_duplicates()"
   ]
  },
  {
   "cell_type": "markdown",
   "id": "11c0c207",
   "metadata": {},
   "source": [
    "## Create network widget"
   ]
  },
  {
   "cell_type": "code",
   "execution_count": null,
   "id": "546cedc0",
   "metadata": {},
   "outputs": [],
   "source": [
    "def node_properties(pos):\n",
    "    node_color = []\n",
    "    node_size = []\n",
    "    for n in pos:\n",
    "        if type(n)==str and n.startswith('https://openalex.org/I'):\n",
    "            node_color.append('green')\n",
    "            node_size.append(500)\n",
    "        else:\n",
    "            node_color.append('blue')\n",
    "            node_size.append(300)\n",
    "    return {'node_color': node_color, 'node_size': node_size}\n",
    "\n",
    "    \n",
    "def network_widget(edges: pd.DataFrame, labels=None):\n",
    "\n",
    "    # create graph\n",
    "    \n",
    "    if not edges.empty:\n",
    "        G = nx.from_pandas_edgelist(edges, 'n1', 'n2', 'type')\n",
    "    else:\n",
    "        G = nx.petersen_graph()  \n",
    "    pos = nx.spring_layout(G)\n",
    "\n",
    "    # create nodes, edges with properties\n",
    "\n",
    "    # nodes\n",
    "    g_nodes = hvnx.draw_networkx_nodes(G, pos, labels=labels, alpha=0.4, **node_properties(pos))\n",
    "    # edges and line types\n",
    "    esolid = []; edashd = []\n",
    "    for (u, v, attr) in G.edges(data=True):\n",
    "        if attr.get('type', '') == 'related_to':\n",
    "            edashd.append((u, v))\n",
    "        else:\n",
    "            esolid.append((u, v))\n",
    "    g_edges1 = hvnx.draw_networkx_edges(G, pos, edgelist=esolid, edge_width=4 if len(edashd)>0 else 1, alpha=0.7, style='solid')  # increase width when mixed with dashed\n",
    "    g_edges2 = hvnx.draw_networkx_edges(G, pos, edgelist=edashd, edge_width=1, alpha=0.7, style='dashed')\n",
    "    return g_nodes * g_edges1 * g_edges2"
   ]
  },
  {
   "cell_type": "code",
   "execution_count": null,
   "id": "179d93e0",
   "metadata": {},
   "outputs": [],
   "source": [
    "# test\n",
    "#aids = ['https://openalex.org/A5028049278']\n",
    "#anames = ['Ruben Lacroix']\n",
    "#edges, labels = coauthor_net(fetch_works(aids, ['authorships']), aids, anames)"
   ]
  },
  {
   "cell_type": "code",
   "execution_count": null,
   "id": "8cdfe1c2",
   "metadata": {},
   "outputs": [],
   "source": [
    "#extract_affiliations(edges, aids)"
   ]
  },
  {
   "cell_type": "code",
   "execution_count": null,
   "id": "b2237bf6",
   "metadata": {},
   "outputs": [],
   "source": [
    "#pn.panel(network_widget(edges, labels), width=800, height=800).servable()\n",
    "#pn.panel(network_widget([]), width=800, height=800).servable()"
   ]
  },
  {
   "cell_type": "markdown",
   "id": "ec94bf17",
   "metadata": {},
   "source": [
    "## Components "
   ]
  },
  {
   "cell_type": "code",
   "execution_count": null,
   "id": "d74cb9f6",
   "metadata": {},
   "outputs": [],
   "source": [
    "autocomplete = pn.widgets.TextInput(placeholder='Author name (press Enter to autocomplete)')"
   ]
  },
  {
   "cell_type": "code",
   "execution_count": null,
   "id": "618e73f0",
   "metadata": {},
   "outputs": [],
   "source": [
    "# suggestions table, updated by pressing Enter on autocomplete (triggers suggest_authors)\n",
    "candidates = pn.widgets.Tabulator(pn.bind(suggest_authors, autocomplete.param.value),\n",
    "                                  sizing_mode='stretch_width',\n",
    "                                  widths={'display_name': '60%', 'works_count': '40%'}, \n",
    "                                  #widths={'hint': '40%'},\n",
    "                                  show_index=False, \n",
    "                                  disabled=True,  # make non-editable\n",
    "                                  selectable='toggle',  # user can select fitting candidates\n",
    "                                  titles={'display_name': 'Name', 'hint': 'Work (most-cited)', \n",
    "                                          'works_count': '# Works', 'external_id': 'ID'},\n",
    "                                  hidden_columns=['id', 'cited_by_count', 'entity_type', 'filter_key', 'hint', 'external_id'])"
   ]
  },
  {
   "cell_type": "code",
   "execution_count": null,
   "id": "009291f5",
   "metadata": {},
   "outputs": [],
   "source": [
    "# button to trigger co-author search\n",
    "start_button = pn.widgets.Button(name='Create network', button_type='primary')\n",
    "\n",
    "# list to persist fetched works\n",
    "works_pane = pn.pane.JSON('[]')\n",
    "author_ids_pane = pn.pane.JSON('[]')\n",
    "\n",
    "# network widget\n",
    "coauthors = pn.panel(network_widget(pd.DataFrame()),  # init sample graph\n",
    "                     #width=800, height=800\n",
    "                     sizing_mode='stretch_both'\n",
    "                    )\n",
    "\n",
    "# affiliations-only checkbox\n",
    "cb_aff = pn.widgets.Checkbox(name='Affiliations only')\n",
    "\n",
    "def process_selection(event):\n",
    "    selection = candidates.value.iloc[candidates.selection]\n",
    "    works = []\n",
    "    # fetch works only if selection is different\n",
    "    author_ids = json.loads(author_ids_pane.object)\n",
    "    if not selection.empty:\n",
    "        if set(selection.id.to_list()) != set(author_ids):\n",
    "            author_ids = selection.id.to_list()\n",
    "            author_ids_pane.object = json.dumps(author_ids)\n",
    "            works = fetch_works(author_ids, ['authorships'])\n",
    "            works_pane.object = json.dumps(works)\n",
    "        else:\n",
    "            works = json.loads(works_pane.object)\n",
    "    if len(works) > 0:\n",
    "        # create network\n",
    "        edges, labels = coauthor_net(works, author_ids, selection.display_name.to_list()[0])\n",
    "        # show affiliations only?\n",
    "        if cb_aff.value:\n",
    "            edges = extract_affiliations(edges, author_ids)\n",
    "    else:\n",
    "        edges = pd.DataFrame(); labels = None\n",
    "    coauthors.object = network_widget(edges, labels)\n",
    "    \n",
    "start_button.on_click(process_selection);"
   ]
  },
  {
   "cell_type": "code",
   "execution_count": null,
   "id": "794d6504",
   "metadata": {},
   "outputs": [],
   "source": [
    "template = pn.template.BootstrapTemplate(\n",
    "    title='What is my coauthor network?'\n",
    ")\n",
    "template.sidebar.append(\n",
    "    pn.Column(\n",
    "            autocomplete, \n",
    "            start_button,\n",
    "            candidates,\n",
    "            cb_aff\n",
    "        )\n",
    ")\n",
    "template.main.append(\n",
    "    pn.Row( \n",
    "        coauthors,\n",
    "        #sizing_mode='stretch_both'  # -> caused issues with toggling in tabulator\n",
    "    )\n",
    ")\n",
    "\n",
    "# make page servable\n",
    "template.servable();  # ; to prevent inline output / use preview instead"
   ]
  },
  {
   "cell_type": "code",
   "execution_count": null,
   "id": "fc705763",
   "metadata": {},
   "outputs": [],
   "source": []
  }
 ],
 "metadata": {
  "jupytext": {
   "cell_metadata_filter": "-all",
   "notebook_metadata_filter": "kernel"
  },
  "kernelspec": {
   "display_name": "Python 3 (ipykernel)",
   "language": "python",
   "name": "python3"
  }
 },
 "nbformat": 4,
 "nbformat_minor": 5
}
