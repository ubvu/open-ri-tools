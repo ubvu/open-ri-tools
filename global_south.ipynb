{
 "cells": [
  {
   "cell_type": "code",
   "execution_count": null,
   "id": "59124fbc",
   "metadata": {},
   "outputs": [],
   "source": [
    "import panel as pn\n",
    "\n",
    "import requests\n",
    "import json\n",
    "import pandas as pd\n",
    "from pyalex import Works\n",
    "from datetime import datetime as dt\n",
    "import plotly.express as px\n",
    "\n",
    "pn.extension('tabulator', 'plotly')"
   ]
  },
  {
   "cell_type": "markdown",
   "id": "c58fbb19",
   "metadata": {},
   "source": [
    "## Backend"
   ]
  },
  {
   "cell_type": "code",
   "execution_count": null,
   "id": "c84528cd",
   "metadata": {},
   "outputs": [],
   "source": [
    "def suggest_institutes(name_part):\n",
    "\n",
    "    if name_part:\n",
    "        url_author_ac = 'https://api.openalex.org/autocomplete/institutions'\n",
    "        params = {'q': name_part}\n",
    "        \n",
    "        r = requests.get(url_author_ac, params=params)\n",
    "        return pd.DataFrame(r.json()['results'])\n",
    "    else:\n",
    "        return pd.DataFrame()"
   ]
  },
  {
   "cell_type": "code",
   "execution_count": null,
   "id": "127d0467",
   "metadata": {},
   "outputs": [],
   "source": [
    "def get_percentage_gs_per_year(afids=None):\n",
    "    n =  10  # last x years\n",
    "    current_year = dt.now().year\n",
    "    years = [str(i) for i in range(current_year-n-1, current_year+1)]\n",
    "    data = []\n",
    "    # api calls\n",
    "    # global\n",
    "    wgs_glob = Works().filter(authorships={'institutions': {'is_global_south': True}},\n",
    "                             publication_year='|'.join(years)).group_by('publication_year').get()\n",
    "    wgn_glob = Works().filter(authorships={'institutions': {'is_global_south': False}},\n",
    "                                 publication_year='|'.join(years)).group_by('publication_year').get()\n",
    "    data.append((wgs_glob, wgn_glob))\n",
    "    if afids:\n",
    "        # with global south\n",
    "        wgs_loc = Works().filter(authorships={'institutions': {'id': '|'.join(afids), 'is_global_south': True}},\n",
    "                             publication_year='|'.join(years)).group_by('publication_year').get()\n",
    "        # only global north\n",
    "        wgn_loc = Works().filter(authorships={'institutions': {'id': '|'.join(afids), 'is_global_south': False}},\n",
    "                             publication_year='|'.join(years)).group_by('publication_year').get()\n",
    "        data.append((wgs_loc, wgn_loc))\n",
    "    # merge (groupby is unordered) and calculate percentage\n",
    "    # for institute and globally\n",
    "    dfs = []\n",
    "    for wgs, wgn in data:\n",
    "        # use dummy if empty (e.g. if institute in global south)\n",
    "        wgs = pd.DataFrame(wgs) if not len(wgs)==0 else pd.DataFrame(columns=['key', 'count'])\n",
    "        wgn = pd.DataFrame(wgn) if not len(wgn)==0 else pd.DataFrame(columns=['key', 'count'])\n",
    "        df = pd.DataFrame({'year': years})\n",
    "        df = df.merge(wgs.rename({'count': 'count_south'}, axis=1), how='left', left_on='year', right_on='key')\n",
    "        df = df.merge(wgn.rename({'count': 'count_north'}, axis=1), how='left', left_on='year', right_on='key')\n",
    "        # fillna with 0 (=works)\n",
    "        df = df.fillna(0)\n",
    "        df[''] = round((df.count_south / (df.count_south+df.count_north))*100,1)\n",
    "        dfs.append(df[['year', '']])\n",
    "\n",
    "    if afids:               \n",
    "        return dfs[0].merge(dfs[1], how='left', on='year', suffixes=('global', 'local'))\n",
    "    else:\n",
    "        return dfs[0].rename({'': 'global'}, axis=1)"
   ]
  },
  {
   "cell_type": "markdown",
   "id": "a4357b85",
   "metadata": {},
   "source": [
    "## Components"
   ]
  },
  {
   "cell_type": "markdown",
   "id": "5965c236",
   "metadata": {},
   "source": [
    "### Autocomplete"
   ]
  },
  {
   "cell_type": "code",
   "execution_count": null,
   "id": "d1d08449",
   "metadata": {},
   "outputs": [],
   "source": [
    "autocomplete = pn.widgets.TextInput(placeholder='Institute name (press Enter to autocomplete)')"
   ]
  },
  {
   "cell_type": "code",
   "execution_count": null,
   "id": "c021539e",
   "metadata": {},
   "outputs": [],
   "source": [
    "candidates = pn.widgets.Tabulator(pn.bind(suggest_institutes, autocomplete.param.value),\n",
    "                                  sizing_mode='stretch_width',\n",
    "                                  #widths={'display_name': '60%', 'works_count': '40%'},\n",
    "                                  show_index=False, \n",
    "                                  disabled=True,  # make non-editable\n",
    "                                  selectable='toggle',  # user can select fitting candidates\n",
    "                                  titles={'display_name': 'Name', 'works_count': '# Works'},\n",
    "                                  hidden_columns=['works_count','id', 'cited_by_count', 'entity_type', 'filter_key', 'hint', 'external_id']\n",
    "                                 )"
   ]
  },
  {
   "cell_type": "markdown",
   "id": "a3c36291",
   "metadata": {},
   "source": [
    "### Fetch data"
   ]
  },
  {
   "cell_type": "code",
   "execution_count": null,
   "id": "ea1ca2eb",
   "metadata": {},
   "outputs": [],
   "source": [
    "# cache df/table\n",
    "df_cache = pn.widgets.DataFrame(get_percentage_gs_per_year())  # default is global-only\n",
    "\n",
    "# button to trigger data retrieval\n",
    "start_button = pn.widgets.Button(name='Get data', button_type='primary')\n",
    "\n",
    "def process_selection(event):\n",
    "    selection = candidates.value.iloc[candidates.selection]\n",
    "    if not selection.empty:\n",
    "        df_cache.value = get_percentage_gs_per_year(selection.id.to_list())\n",
    "    \n",
    "start_button.on_click(process_selection);"
   ]
  },
  {
   "cell_type": "markdown",
   "id": "0635d5be",
   "metadata": {},
   "source": [
    "### Plot"
   ]
  },
  {
   "cell_type": "code",
   "execution_count": null,
   "id": "51fd18ff",
   "metadata": {},
   "outputs": [],
   "source": [
    "def plot_graph(df):\n",
    "    fig = px.line(df, x=\"year\", y=[c for c in df.columns if c!='year'],\n",
    "                 labels={'value': '% works with at least 1 gs author', 'year': 'Year', 'variable': ''},\n",
    "                 template=\"simple_white\")\n",
    "    fig.update_xaxes(type='category')  # otherwise, ticks appear when zooming in\n",
    "    return fig"
   ]
  },
  {
   "cell_type": "code",
   "execution_count": null,
   "id": "0ea9b05b",
   "metadata": {},
   "outputs": [],
   "source": [
    "# test\n",
    "#afid = 'https://openalex.org/I69737025'  # https://openalex.org/I865915315\n",
    "#df = get_percentage_gs_per_year([afid])"
   ]
  },
  {
   "cell_type": "code",
   "execution_count": null,
   "id": "4a986389",
   "metadata": {},
   "outputs": [],
   "source": [
    "#plot_graph(df)"
   ]
  },
  {
   "cell_type": "code",
   "execution_count": null,
   "id": "dc52d456",
   "metadata": {},
   "outputs": [],
   "source": [
    "# plot\n",
    "plot_obj = pn.bind(plot_graph, df_cache)  # updated when df changes\n",
    "plot_pane = pn.pane.Plotly(plot_obj, config={\"responsive\": False})"
   ]
  },
  {
   "cell_type": "markdown",
   "id": "326bedfd",
   "metadata": {},
   "source": [
    "## Layout"
   ]
  },
  {
   "cell_type": "code",
   "execution_count": null,
   "id": "c3e9dec3",
   "metadata": {},
   "outputs": [],
   "source": [
    "template = pn.template.BootstrapTemplate(\n",
    "    title='Does my institute collaborate with the global south?'\n",
    ")\n",
    "template.sidebar.append(\n",
    "    pn.Column(\n",
    "            autocomplete, \n",
    "            start_button,\n",
    "            candidates\n",
    "        )\n",
    ")\n",
    "template.main.append(\n",
    "    pn.Column(plot_pane)\n",
    ")\n",
    "template.servable();"
   ]
  },
  {
   "cell_type": "code",
   "execution_count": null,
   "id": "50f9de12",
   "metadata": {},
   "outputs": [],
   "source": []
  }
 ],
 "metadata": {
  "jupytext": {
   "cell_metadata_filter": "-all",
   "notebook_metadata_filter": "kernel"
  },
  "kernelspec": {
   "display_name": "Python 3 (ipykernel)",
   "language": "python",
   "name": "python3"
  }
 },
 "nbformat": 4,
 "nbformat_minor": 5
}
