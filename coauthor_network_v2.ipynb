{
 "cells": [
  {
   "cell_type": "code",
   "execution_count": null,
   "id": "e66f66ae",
   "metadata": {},
   "outputs": [],
   "source": [
    "import panel as pn\n",
    "\n",
    "import requests\n",
    "import json\n",
    "import pandas as pd\n",
    "from pyalex import Works\n",
    "\n",
    "import hvplot.networkx as hvnx\n",
    "import networkx as nx\n",
    "from holoviews import opts\n",
    "\n",
    "from bokeh.models import HoverTool\n",
    "\n",
    "import plotly.graph_objects as go\n",
    "\n",
    "pn.extension('tabulator', 'plotly')"
   ]
  },
  {
   "cell_type": "markdown",
   "id": "b25fb9de",
   "metadata": {},
   "source": [
    "# Simple coauthor network with research fields\n",
    "\n",
    "Difference to v1\n",
    "- works are not cached (caused memory overflow)\n",
    "- only one network is created at a time (no year slider)\n",
    "\n",
    "New features\n",
    "- research fields\n",
    "- networks of coauthors"
   ]
  },
  {
   "cell_type": "markdown",
   "id": "dabe8dd7",
   "metadata": {},
   "source": [
    "## Backend"
   ]
  },
  {
   "cell_type": "markdown",
   "id": "6badc63e",
   "metadata": {},
   "source": [
    "### Data"
   ]
  },
  {
   "cell_type": "code",
   "execution_count": null,
   "id": "01e8d70f",
   "metadata": {},
   "outputs": [],
   "source": [
    "def suggest_authors(name_part):\n",
    "    if name_part:\n",
    "        url_author_ac = 'https://api.openalex.org/autocomplete/authors'\n",
    "        params = {'q': name_part}\n",
    "        \n",
    "        r = requests.get(url_author_ac, params=params)\n",
    "        return pd.DataFrame(r.json()['results'])\n",
    "    else:\n",
    "        return pd.DataFrame()"
   ]
  },
  {
   "cell_type": "code",
   "execution_count": null,
   "id": "6a780331",
   "metadata": {},
   "outputs": [],
   "source": [
    "def fetch_concepts(author_id):\n",
    "    data = Works().filter(author={'id': author_id}).group_by('concepts.id').get()\n",
    "    concepts = pd.DataFrame(data) if not len(data)==0 else pd.DataFrame(columns=['key', 'key_display_name', 'count'])\n",
    "    return concepts"
   ]
  },
  {
   "cell_type": "code",
   "execution_count": null,
   "id": "5165bc7a",
   "metadata": {},
   "outputs": [],
   "source": [
    "def fetch_works(author_ids):\n",
    "    fields = ['id', 'publication_year', 'authorships']\n",
    "    works = []\n",
    "    works_pages = Works().filter(author={\"id\": '|'.join(author_ids)}).select(fields).paginate(per_page=200)\n",
    "    for works_page in works_pages:\n",
    "        works.extend(works_page)\n",
    "    return works"
   ]
  },
  {
   "cell_type": "code",
   "execution_count": null,
   "id": "7e788452",
   "metadata": {},
   "outputs": [],
   "source": [
    "def process_works(works, author_ids, author_name):\n",
    "    # extract coauthors and affiliations\n",
    "    coauthors = []\n",
    "    affiliations = []  # for edges: author(incl. self)-institute; keep work id for institutes cumsum\n",
    "    for work in works:\n",
    "        for authorship in work['authorships']:\n",
    "            aid = authorship['author'].get('id')\n",
    "            # add coauthors\n",
    "            if aid not in author_ids:  # self is not coauthor\n",
    "                name = authorship['author'].get('display_name')\n",
    "                if name:\n",
    "                    coauthors.append({'id': aid, 'name': name, 'year': work['publication_year']})\n",
    "            else:  \n",
    "                # self: only add affiliation\n",
    "                aid = author_ids[0]\n",
    "                name = author_name\n",
    "            # add affiliations\n",
    "            if name:\n",
    "                for institute in authorship['institutions']:\n",
    "                    iid = institute.get('id')\n",
    "                    iname = institute.get('display_name')\n",
    "                    if iid and iname:\n",
    "                        affiliations.append({'aid': aid, 'iid': iid, 'name': iname, 'wid': work['id'], 'year': work['publication_year']})\n",
    "\n",
    "    return pd.DataFrame(coauthors), pd.DataFrame(affiliations)"
   ]
  },
  {
   "cell_type": "code",
   "execution_count": null,
   "id": "87fabaad",
   "metadata": {},
   "outputs": [],
   "source": [
    "def coauthor_agg(df):\n",
    "    # coauthors (nodes): calculate the sum of works for each coauthor\n",
    "    coauthors = df.copy()\n",
    "    coauthors = coauthors.groupby(['id'], as_index=False).agg(name = ('name', 'first'), count = ('id', 'count'))\n",
    "\n",
    "    return coauthors"
   ]
  },
  {
   "cell_type": "code",
   "execution_count": null,
   "id": "299c4846",
   "metadata": {},
   "outputs": [],
   "source": [
    "def institutes_agg(df):\n",
    "    # 1. affiliations (edges): cumsum works author(incl. self)-institute\n",
    "    affiliations = df.copy().drop(columns=['name', 'wid'])\n",
    "    affiliations = affiliations.groupby(['aid', 'iid'], as_index=False).agg(count = ('aid', 'count'))\n",
    "    # 2. institutes (nodes): works per institute\n",
    "    institutes = df.copy().drop_duplicates(['iid', 'wid']).drop(columns=['aid', 'wid'])\n",
    "    institutes = institutes.groupby(['iid'], as_index=False).agg(name = ('name', 'first'), count = ('iid', 'count'))\n",
    "\n",
    "    return affiliations, institutes.rename({'iid': 'id'}, axis=1)"
   ]
  },
  {
   "cell_type": "code",
   "execution_count": null,
   "id": "4e10ffd0",
   "metadata": {},
   "outputs": [],
   "source": [
    "def fetch_process_agg(author_ids, author_name):\n",
    "    works = fetch_works(author_ids)\n",
    "    coauthors, affiliations = process_works(works, author_ids, author_name)\n",
    "    \n",
    "    return coauthor_agg(coauthors), *institutes_agg(affiliations)"
   ]
  },
  {
   "cell_type": "markdown",
   "id": "e367276c",
   "metadata": {},
   "source": [
    "### Network"
   ]
  },
  {
   "cell_type": "code",
   "execution_count": null,
   "id": "be78237b",
   "metadata": {},
   "outputs": [],
   "source": [
    "def make_graph(coauthors, affiliations, institutes, author_ids, author_name):\n",
    "    \n",
    "    # prepare edges (affiliations)\n",
    "    # add count (# works at institute) as edge attribute\n",
    "    # scale count for alpha (by author, indicating affiliation strength)\n",
    "    affiliations['count_norm_edge'] = (affiliations['count'] / affiliations.groupby('aid')['count'].transform(max))\n",
    "    # create graph, nodes are added implicitly\n",
    "    G = nx.from_pandas_edgelist(affiliations, 'aid', 'iid', edge_attr='count_norm_edge')\n",
    "    \n",
    "    # nodes (coauthors+institutes)\n",
    "    # remove coauthors without affiliation\n",
    "    coauthors = coauthors.copy()[coauthors.id.isin(affiliations.aid)]\n",
    "    # set node attributes, scale for alpha (0-1)\n",
    "    coauthors['count_norm'] = coauthors['count'] / coauthors['count'].max()\n",
    "    institutes['count_norm'] = 1.0  # keep institute alpha at max\n",
    "    # combine\n",
    "    coauthors['type'] = 'author'\n",
    "    institutes['type'] = 'institute'\n",
    "    nodes = pd.concat([coauthors, institutes], axis=0)\n",
    "    # node-attributes format: {id:{attr: a}}\n",
    "    # count (alpha), name, type\n",
    "    node_attributes = nodes.set_index('id').to_dict('index')\n",
    "    # add self: alpha=1, name, type\n",
    "    node_attributes[author_ids[0]] = {'count_norm': 1.0}\n",
    "    node_attributes[author_ids[0]]['name'] = author_name\n",
    "    node_attributes[author_ids[0]]['type'] = 'author'\n",
    "\n",
    "    nx.set_node_attributes(G, node_attributes)\n",
    "    \n",
    "    return G\n",
    "    \n",
    "def make_network_widget(coauthors_from_cache):\n",
    "\n",
    "    coauthors = coauthors_from_cache.copy()\n",
    "    affiliations = cache_affi.value.copy()\n",
    "    institutes = cache_inst.value.copy()\n",
    "    author_ids = cache_auth.value.get('author_ids')\n",
    "    author_name = cache_auth.value.get('author_name')\n",
    "    \n",
    "    if not coauthors.empty:\n",
    "        G = make_graph(coauthors, affiliations, institutes, author_ids, author_name)\n",
    "        # TODO make this an option\n",
    "        G = G.subgraph(max(nx.connected_components(G), key=len))  # only selecting biggest component\n",
    "    else:\n",
    "        #G = nx.petersen_graph()\n",
    "        G = nx.Graph()\n",
    "    pos = nx.spring_layout(G)\n",
    "\n",
    "    # create sub graphs\n",
    "    if not coauthors.empty:\n",
    "        nodes = hvnx.draw_networkx_nodes(G, pos)  #  labels=names\n",
    "        edges = hvnx.draw_networkx_edges(G, pos)  # , alpha=dim(year)/max_cs\n",
    "        graph = nodes * edges\n",
    "        tooltips = [('name', '@name')]  # doesn't work for numeric keys, e.g. year number\n",
    "        hover = HoverTool(tooltips=tooltips)\n",
    "        hvplot = graph.opts(\n",
    "            opts.Graph(\n",
    "                tools=[hover, 'tap'],  # https://docs.bokeh.org/en/2.4.1/docs/user_guide/tools.html                       \n",
    "                node_fill_alpha='count_norm', \n",
    "                node_line_alpha=0.3,\n",
    "                edge_alpha='count_norm_edge',  # Note: name has to be different from node_fill_alpha (conflict)\n",
    "                edge_line_width=1,\n",
    "                node_color='type', cmap=['blue', 'green']\n",
    "            )\n",
    "        )\n",
    "    else:\n",
    "        hvplot = hvnx.draw_networkx(G, pos)\n",
    "\n",
    "    return hvplot"
   ]
  },
  {
   "cell_type": "markdown",
   "id": "1fd0c517",
   "metadata": {},
   "source": [
    "### Bar plot\n",
    "\n",
    "concepts / research fields"
   ]
  },
  {
   "cell_type": "code",
   "execution_count": null,
   "id": "9eac4e89",
   "metadata": {},
   "outputs": [],
   "source": [
    "def plot_concepts(df, author_name):\n",
    "    if not df.empty:\n",
    "        df = df.sort_values(by=['count'], ascending=False).head(10)  # top10\n",
    "        fig = go.Figure(go.Bar(\n",
    "            x=df['count'],\n",
    "            y=df['key_display_name'],\n",
    "            orientation='h'))\n",
    "    else:\n",
    "        fig = go.Figure()\n",
    "    fig.update_layout(\n",
    "        template='simple_white', \n",
    "        title=f\"What is {author_name}'s research about?\",\n",
    "        yaxis=dict(autorange=\"reversed\", tickmode='linear'), \n",
    "        xaxis=dict(title_text=\"# Works\")\n",
    "    )\n",
    "    return fig"
   ]
  },
  {
   "cell_type": "markdown",
   "id": "f54934f4",
   "metadata": {},
   "source": [
    "## Components "
   ]
  },
  {
   "cell_type": "code",
   "execution_count": null,
   "id": "dcbeca9c",
   "metadata": {},
   "outputs": [],
   "source": [
    "autocomplete = pn.widgets.TextInput(placeholder='Author name (press Enter to autocomplete)')"
   ]
  },
  {
   "cell_type": "code",
   "execution_count": null,
   "id": "3b955f3c",
   "metadata": {},
   "outputs": [],
   "source": [
    "# suggestions table, updated by pressing Enter on autocomplete (triggers suggest_authors)\n",
    "candidates = pn.widgets.Tabulator(pn.bind(suggest_authors, autocomplete.param.value),\n",
    "                                  sizing_mode='stretch_width',\n",
    "                                  widths={'display_name': '60%', 'works_count': '40%'},\n",
    "                                  show_index=False, \n",
    "                                  disabled=True,  # make non-editable\n",
    "                                  selectable='toggle',  # user can select fitting candidates\n",
    "                                  titles={'display_name': 'Name', 'hint': 'Work (most-cited)', \n",
    "                                          'works_count': '# Works', 'external_id': 'ID'},\n",
    "                                  hidden_columns=['id', 'cited_by_count', 'entity_type', 'filter_key', 'hint', 'external_id'])"
   ]
  },
  {
   "cell_type": "code",
   "execution_count": null,
   "id": "cbbf2095",
   "metadata": {},
   "outputs": [],
   "source": [
    "# cache: we need these widgets for binding\n",
    "cache_coau = pn.widgets.DataFrame(pd.DataFrame())\n",
    "cache_affi = pn.widgets.DataFrame(pd.DataFrame())\n",
    "cache_inst = pn.widgets.DataFrame(pd.DataFrame())\n",
    "cache_auth = pn.widgets.JSONEditor(value={})  # author information"
   ]
  },
  {
   "cell_type": "code",
   "execution_count": null,
   "id": "a845eea8",
   "metadata": {},
   "outputs": [],
   "source": [
    "# button to trigger co-author search\n",
    "start_button = pn.widgets.Button(name='Create network', button_type='primary')\n",
    "\n",
    "# network widget\n",
    "network_widget = pn.bind(make_network_widget, cache_coau)   \n",
    "\n",
    "# bar plot\n",
    "concepts_bar = pn.pane.Plotly(plot_concepts(pd.DataFrame(), 'no one'), config={\"responsive\": False}, sizing_mode='stretch_both')\n",
    "\n",
    "# coauthors table, for selection\n",
    "table_widget = pn.widgets.Tabulator(pd.DataFrame(),\n",
    "                                    titles={'name': 'Name', 'count': '#'},\n",
    "                                    hidden_columns=['id'],\n",
    "                                    #sorters=[{'field': 'count', 'dir': 'desc'}],\n",
    "                                    disabled=True, show_index=False,\n",
    "                                    sizing_mode='stretch_both'\n",
    "                                   )\n",
    "\n",
    "# 2nd degree coauthors table\n",
    "table_widget2 = pn.widgets.Tabulator(pd.DataFrame(),\n",
    "                                    titles={'name': 'Name', 'count': '#'},\n",
    "                                    hidden_columns=['id'],\n",
    "                                    disabled=True, show_index=False,\n",
    "                                    sizing_mode='stretch_both'\n",
    "                                   )\n",
    "\n",
    "# display current target author\n",
    "target_author = pn.pane.Markdown('')"
   ]
  },
  {
   "cell_type": "markdown",
   "id": "f2573d36",
   "metadata": {},
   "source": [
    "## Interactivity"
   ]
  },
  {
   "cell_type": "code",
   "execution_count": null,
   "id": "d4f053d8",
   "metadata": {},
   "outputs": [],
   "source": [
    "# when triggered, updates non-table visuals\n",
    "def update_data(author_ids, author_name):\n",
    "    # fetch and process data, cache only after agg\n",
    "    coauthors, affiliations, institutes = fetch_process_agg(author_ids, author_name)\n",
    "    concepts = fetch_concepts(author_ids[0])\n",
    "    # replace cache, automatically updates visuals\n",
    "    cache_auth.value = {'author_ids': author_ids, 'author_name': author_name}\n",
    "    cache_affi.value = affiliations\n",
    "    cache_inst.value = institutes\n",
    "    cache_coau.value = coauthors.sort_values(by=['count'], ascending=False)  # should be last as this triggers the bind; sort for table\n",
    "    concepts_bar.object = plot_concepts(concepts, author_name)\n",
    "    target_author.object = f'### {author_name}'"
   ]
  },
  {
   "cell_type": "code",
   "execution_count": null,
   "id": "7acc9341",
   "metadata": {},
   "outputs": [],
   "source": [
    "# triggered when coauthor is selected in table\n",
    "\n",
    "# table 1\n",
    "def update_data_and_table2(event):\n",
    "    update_data([table_widget.value.iloc[event.row]['id']], table_widget.value.iloc[event.row]['name'])\n",
    "    table_widget2.value = cache_coau.value\n",
    "table_widget.on_click(update_data_and_table2)\n",
    "\n",
    "# table 2\n",
    "def update_data_only(event):\n",
    "    update_data([table_widget2.value.iloc[event.row]['id']], table_widget2.value.iloc[event.row]['name'])\n",
    "table_widget2.on_click(update_data_only)"
   ]
  },
  {
   "cell_type": "code",
   "execution_count": null,
   "id": "549fcb5b",
   "metadata": {},
   "outputs": [],
   "source": [
    "# update data when create-network-button is pressed\n",
    "\n",
    "author_ids_cache = pn.pane.JSON('[]')  # just used for selection check\n",
    "def process_selection(event):\n",
    "    selection = candidates.value.iloc[candidates.selection]\n",
    "    author_ids = json.loads(author_ids_cache.object)\n",
    "    if not selection.empty:\n",
    "        # fetch works only if selection is different\n",
    "        if set(selection.id.to_list()) != set(author_ids):\n",
    "            author_ids = selection.id.to_list()\n",
    "            author_name = selection.display_name.to_list()[0]\n",
    "            update_data(author_ids, author_name)\n",
    "            # update table1\n",
    "            table_widget.value = pd.DataFrame()  # resets scrollbar\n",
    "            table_widget.value = cache_coau.value\n",
    "            # reset selection\n",
    "            table_widget.selection = []\n",
    "            # remove table2\n",
    "            table_widget2.value = pd.DataFrame()\n",
    "        else:\n",
    "            pass\n",
    "    \n",
    "start_button.on_click(process_selection);"
   ]
  },
  {
   "cell_type": "markdown",
   "id": "a202a36a",
   "metadata": {},
   "source": [
    "## Description"
   ]
  },
  {
   "cell_type": "code",
   "execution_count": null,
   "id": "42e165b2",
   "metadata": {},
   "outputs": [],
   "source": [
    "description = pn.pane.Markdown(\n",
    "\"\"\"\n",
    "(Data is fetched from [OpenAlex](https://openalex.org/))\n",
    "\n",
    "## How to use this network\n",
    "\n",
    "Nodes represent either coauthors (including the target author) or affiliated institutes; \n",
    "their strength corresponds to the relative number of works coauthored with the target author.\n",
    "Hover over nodes to see the name of the author or institute.\n",
    "Click on a node to highlight its affiliations only.\n",
    "Note that the shown network is not complete; it is the largest connected component which means that only coauthors are shown who share affiliations. \n",
    "The strength of the connection corresponds to the relative number of works published by an author under an affiliated institute.\n",
    "\"\"\"\n",
    ")"
   ]
  },
  {
   "cell_type": "markdown",
   "id": "d59e5f11",
   "metadata": {},
   "source": [
    "## Layout"
   ]
  },
  {
   "cell_type": "code",
   "execution_count": null,
   "id": "c0c32703",
   "metadata": {},
   "outputs": [],
   "source": [
    "template = pn.template.BootstrapTemplate(\n",
    "    title='What is my coauthor network?',\n",
    "    busy_indicator=pn.indicators.LoadingSpinner(size=40, value=True, color='primary', bgcolor='light')\n",
    ")\n",
    "template.sidebar.append(\n",
    "    pn.Column(\n",
    "            autocomplete, \n",
    "            start_button,\n",
    "            candidates\n",
    "        )\n",
    ")\n",
    "\n",
    "template.main.append(\n",
    "    pn.Row(\n",
    "        pn.Column(\n",
    "            pn.Row(pn.pane.Markdown('### Network for'), target_author, styles=dict(background='whitesmoke')),\n",
    "            pn.Row(pn.pane.Markdown('#### Select coauthor below to update data')),\n",
    "            pn.Row(\n",
    "                pn.Column(\n",
    "                    pn.pane.Markdown('First degree'), \n",
    "                    table_widget\n",
    "                ),\n",
    "                pn.Column(\n",
    "                    pn.pane.Markdown('Second degree'),\n",
    "                    table_widget2\n",
    "                )\n",
    "            ),\n",
    "            concepts_bar\n",
    "        ),\n",
    "        pn.Column(\n",
    "            pn.Row(\n",
    "                pn.panel(network_widget, width=500, height=500),\n",
    "            ),\n",
    "            description,\n",
    "            sizing_mode=\"stretch_both\",\n",
    "        )\n",
    "    )\n",
    ")\n",
    "\n",
    "# make page servable\n",
    "template.servable();  # ; to prevent inline output / use preview instead"
   ]
  },
  {
   "cell_type": "markdown",
   "id": "466948b4",
   "metadata": {},
   "source": [
    "## At start-up, load demo data"
   ]
  },
  {
   "cell_type": "code",
   "execution_count": null,
   "id": "ade5bca0",
   "metadata": {},
   "outputs": [],
   "source": [
    "update_data(['https://openalex.org/A5067720298'], 'Claude E. Shannon')\n",
    "table_widget.value = cache_coau.value"
   ]
  },
  {
   "cell_type": "code",
   "execution_count": null,
   "id": "a805f7e3",
   "metadata": {},
   "outputs": [],
   "source": [
    "#pn.panel(network_widget)"
   ]
  },
  {
   "cell_type": "code",
   "execution_count": null,
   "id": "c47127a8",
   "metadata": {},
   "outputs": [],
   "source": []
  }
 ],
 "metadata": {
  "jupytext": {
   "cell_metadata_filter": "-all",
   "notebook_metadata_filter": "kernel"
  },
  "kernelspec": {
   "display_name": "Python 3 (ipykernel)",
   "language": "python",
   "name": "python3"
  }
 },
 "nbformat": 4,
 "nbformat_minor": 5
}
