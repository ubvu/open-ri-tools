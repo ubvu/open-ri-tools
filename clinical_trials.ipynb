{
 "cells": [
  {
   "cell_type": "code",
   "execution_count": null,
   "id": "fa0982eb",
   "metadata": {},
   "outputs": [],
   "source": [
    "# Panel infers Pyodide installs from these imports\n",
    "import panel as pn\n",
    "import pandas as pd\n",
    "import requests\n",
    "\n",
    "# necessary to render in notebook\n",
    "pn.extension('plotly', 'tabulator')"
   ]
  },
  {
   "cell_type": "markdown",
   "id": "980f69f4",
   "metadata": {},
   "source": [
    "## Backend\n",
    "\n",
    "- Functions for data collection and transformation"
   ]
  },
  {
   "cell_type": "code",
   "execution_count": null,
   "id": "dcb0c721",
   "metadata": {},
   "outputs": [],
   "source": [
    "def process_doi(doi):\n",
    "    # api allows url or plain doi\n",
    "    # but no trailing whitespaces\n",
    "    return doi.strip()"
   ]
  },
  {
   "cell_type": "code",
   "execution_count": null,
   "id": "04c5049b",
   "metadata": {},
   "outputs": [],
   "source": [
    "# retrieve citing publications from openalex\n",
    "def get_citing(doi):\n",
    "    \n",
    "    base_url_works = 'https://api.openalex.org/works'\n",
    "    df = pd.DataFrame()  # return empty df when encountering issues\n",
    "    \n",
    "    # get work id from doi\n",
    "    params = {'filter': f'doi:{doi}'}\n",
    "    r = requests.get(base_url_works, params)\n",
    "    if r.status_code == 200:\n",
    "        data = r.json()\n",
    "        if len(data['results']) > 0:\n",
    "            work_id = data['results'][0]['id']  # if multiple, take first; TODO: we can use this to retrieve data for multiple dois\n",
    "            work_id = work_id.replace('https://openalex.org/', '')\n",
    "            \n",
    "            # obtain citing publications/pmids\n",
    "            params = {'filter': f'cites:{work_id}',\n",
    "                      'cursor': '*', 'per-page': 100}  # using cursor pagination\n",
    "            records = []\n",
    "            done = False\n",
    "            while not done:\n",
    "                r = requests.get(base_url_works, params)\n",
    "                data = r.json()\n",
    "                for work in data['results']:\n",
    "                    record = {\n",
    "                        'title': work.get('title'),\n",
    "                        'year': work.get('publication_year'),\n",
    "                        'doi': work.get('doi'),\n",
    "                        'pmid': work['ids'].get('pmid')\n",
    "                    }\n",
    "                    records.append(record)\n",
    "                if data['meta']['next_cursor']:\n",
    "                    params['cursor'] = data['meta']['next_cursor']\n",
    "                else:\n",
    "                    done = True\n",
    "            df = pd.DataFrame(records)        \n",
    "    return df"
   ]
  },
  {
   "cell_type": "code",
   "execution_count": null,
   "id": "bf2654ae",
   "metadata": {},
   "outputs": [],
   "source": [
    "# retrieve clinical trials from pubmed (filter)\n",
    "def get_clinical_trials(pmids):\n",
    "    \n",
    "    search_url = 'https://eutils.ncbi.nlm.nih.gov/entrez/eutils/esearch.fcgi'\n",
    "    \n",
    "    query = ' OR '.join([f'{pmid}[pmid]' for pmid in pmids]) + ' AND (clinicaltrial[Filter])'\n",
    "                                                                     \n",
    "    data = {'term': query.encode('utf-8'), 'db': 'pubmed', 'retmax': 10000, 'retmode': 'json'}\n",
    "    # https://stackoverflow.com/questions/55887958/what-is-the-default-encoding-when-python-requests-post-data-is-string-type\n",
    "    headers={'Content-Type': 'application/x-www-form-urlencoded; charset=utf-8',\n",
    "             'Accept': 'application/json'}\n",
    "    r = requests.post(search_url, data=data, headers=headers)\n",
    "    data = r.json()['esearchresult']\n",
    "    \n",
    "    return data['idlist']"
   ]
  },
  {
   "cell_type": "code",
   "execution_count": null,
   "id": "46f0e138",
   "metadata": {},
   "outputs": [],
   "source": [
    "# main function: collect data and transform\n",
    "def get_data(doi):\n",
    "    df = get_citing(doi)\n",
    "    if not df.empty:\n",
    "        df['pmid'] = df.pmid.apply(lambda x: \n",
    "                                   x.replace('https://pubmed.ncbi.nlm.nih.gov/', '')\n",
    "                                   if not pd.isna(x) else x)\n",
    "        pmids = df.pmid.dropna().to_list()\n",
    "        pmids_trial = get_clinical_trials(pmids)\n",
    "        df['is_trial'] = df.pmid.isin(pmids_trial)\n",
    "    return df"
   ]
  },
  {
   "cell_type": "code",
   "execution_count": null,
   "id": "5c5eecbf",
   "metadata": {},
   "outputs": [],
   "source": [
    "# when starting the application, we want to show a default dashboard using existing data\n",
    "# uncomment and run this cell to update the default data / push to repo\n",
    "#df = get_data('10.1136/annrheumdis-2019-216655')  # or: 10.3389/fnsys.2013.00031\n",
    "#df.to_csv('../data/clinical_trials_default.csv')"
   ]
  },
  {
   "cell_type": "markdown",
   "id": "60dfb062",
   "metadata": {},
   "source": [
    "## Load default data"
   ]
  },
  {
   "cell_type": "code",
   "execution_count": null,
   "id": "9156e829",
   "metadata": {},
   "outputs": [],
   "source": [
    "df_demo = pd.read_csv('https://raw.githubusercontent.com/ubvu/open-ri-tools/main/data/clinical_trials_default.csv', index_col=0)"
   ]
  },
  {
   "cell_type": "code",
   "execution_count": null,
   "id": "0b29578c",
   "metadata": {},
   "outputs": [],
   "source": [
    "# transformations to the dataframe\n",
    "# applied when loading or updating data\n",
    "def transform_df(df):\n",
    "    #df = df.astype(object)\n",
    "    return df"
   ]
  },
  {
   "cell_type": "markdown",
   "id": "3e2b4198",
   "metadata": {},
   "source": [
    "## Plotting functions"
   ]
  },
  {
   "cell_type": "code",
   "execution_count": null,
   "id": "2eb882b7",
   "metadata": {},
   "outputs": [],
   "source": [
    "import plotly.express as px"
   ]
  },
  {
   "cell_type": "code",
   "execution_count": null,
   "id": "c2f7debb",
   "metadata": {},
   "outputs": [],
   "source": [
    "def plot_citations(df):\n",
    "    agg = df.groupby(['year', 'is_trial'], as_index=False).title.count()\n",
    "    fig = px.bar(agg, x=\"year\", y=\"title\", color='is_trial',\n",
    "                 labels={'title': 'Citations', 'year': 'Year'},\n",
    "                 template=\"simple_white\")\n",
    "    fig.update_layout(legend=dict(orientation=\"h\", yanchor=\"bottom\", y=1.02))\n",
    "    fig.update_xaxes(type='category')  # otherwise, ticks appear when zooming in\n",
    "    return fig"
   ]
  },
  {
   "cell_type": "markdown",
   "id": "d684e938",
   "metadata": {},
   "source": [
    "## Components and Interactivity\n",
    "\n",
    "- create components and bind them"
   ]
  },
  {
   "cell_type": "code",
   "execution_count": null,
   "id": "e6fe5fd8",
   "metadata": {},
   "outputs": [],
   "source": [
    "# main dataframe widget (not displayed), used to bind other components to\n",
    "# is updated when doi is submitted and processed successfully\n",
    "df_widget = pn.widgets.DataFrame(transform_df(df_demo), name='df')"
   ]
  },
  {
   "cell_type": "code",
   "execution_count": null,
   "id": "448bcbd2",
   "metadata": {},
   "outputs": [],
   "source": [
    "# text boxes\n",
    "tb_doi = pn.widgets.TextInput(placeholder='Enter DOI here...')\n",
    "\n",
    "# citation plot\n",
    "citation_fig = pn.bind(plot_citations, df_widget)  # updated when df changes\n",
    "pane_plot_citations = pn.pane.Plotly(citation_fig, config={\"responsive\": False})\n",
    "\n",
    "# publications table\n",
    "formatters = {\n",
    "    'doi': {'type': 'link', 'label': '⇗', 'target': \"_blank\"},\n",
    "    'pmid': {'type': 'link', 'urlPrefix': 'https://pubmed.ncbi.nlm.nih.gov/', 'label': '⇗', 'target': \"_blank\"},\n",
    "    'is_trial': {'type': 'tickCross'},\n",
    "    'year': {'type': 'int'}\n",
    "}\n",
    "# fix title width (~40%), distribute rest equally\n",
    "cols = df_widget.value.columns; w_rest = 60/(len(cols)-1)\n",
    "widths = {c:f'{w_rest}%' if c != 'title' else f'{100-(w_rest*(len(cols)-1))}%' for c in df_widget.value.columns}\n",
    "widget_table = pn.widgets.Tabulator(df_widget,  # implicitly binds table to df\n",
    "                                    disabled=True,\n",
    "                                    formatters=formatters, sizing_mode=\"stretch_both\", show_index=False, widths=widths)\n",
    "# table filters\n",
    "# checkbox\n",
    "cb_trial = pn.widgets.Checkbox(name='show clinical trials')\n",
    "# slider\n",
    "# year range needs to be calculated first\n",
    "def year_range(df):\n",
    "    ymin = int(df.year.min())\n",
    "    ymax = int(df.year.max())\n",
    "    return {'start': ymin, 'end': ymax, 'value': (ymin, ymax)}  # label=value so it has to be set as well\n",
    "# year range binds to df via refs argument\n",
    "slider_year = pn.widgets.IntRangeSlider(refs=pn.bind(year_range, df_widget), **year_range(df_widget.value))  # start/end defaults needed\n",
    "# add to table\n",
    "widget_table.add_filter(cb_trial, 'is_trial')\n",
    "widget_table.add_filter(slider_year, 'year')"
   ]
  },
  {
   "cell_type": "code",
   "execution_count": null,
   "id": "dce436b2",
   "metadata": {},
   "outputs": [],
   "source": [
    "# test\n",
    "#pane_plot_citations.servable()"
   ]
  },
  {
   "cell_type": "code",
   "execution_count": null,
   "id": "5e18d9c7",
   "metadata": {},
   "outputs": [],
   "source": [
    "# test\n",
    "#pn.Row(cb_trial, slider_year, widget_table).servable()"
   ]
  },
  {
   "cell_type": "code",
   "execution_count": null,
   "id": "793fcc19",
   "metadata": {},
   "outputs": [],
   "source": [
    "# test: observe updates when df changes\n",
    "#df_widget.value = df_demo[df_demo.year==2020]"
   ]
  },
  {
   "cell_type": "code",
   "execution_count": null,
   "id": "a27e99d0",
   "metadata": {},
   "outputs": [],
   "source": [
    "# text/doi input triggers data update and yields current status (via generator)\n",
    "# note on generators: only yield, return breaks the execution\n",
    "def update_data(doi=None):\n",
    "    if not doi: \n",
    "        yield ''  # show nothing when initializing\n",
    "    else:\n",
    "        yield 'Search in progress...'\n",
    "        df = get_data(process_doi(doi))\n",
    "        if df.empty:\n",
    "            yield 'Invalid DOI or no data available'  \n",
    "        else:\n",
    "            df_widget.value = transform_df(df)  # triggers updates\n",
    "            yield 'Done'\n",
    "\n",
    "status_text = pn.bind(update_data, tb_doi)"
   ]
  },
  {
   "cell_type": "code",
   "execution_count": null,
   "id": "a41d8c2d",
   "metadata": {},
   "outputs": [],
   "source": [
    "# # plotly click_data does not work at this point:\n",
    "# # https://github.com/holoviz/panel/issues/5096\n",
    "# @pn.depends(citation_years.param.click_data, watch=True)\n",
    "# def trials_table(event, df=df):\n",
    "#     try:\n",
    "#         year = round(event[\"points\"][0][\"x\"],0)\n",
    "#     except:\n",
    "#         year = 2021\n",
    "#     dff = df[df.year==year]\n",
    "#     return pn.pane.DataFrame(dff, index=False, render_links=True, sizing_mode=\"stretch_both\")"
   ]
  },
  {
   "cell_type": "markdown",
   "id": "8281d815",
   "metadata": {},
   "source": [
    "## Description"
   ]
  },
  {
   "cell_type": "code",
   "execution_count": null,
   "id": "317c1e00",
   "metadata": {},
   "outputs": [],
   "source": [
    "description = pn.pane.Markdown(\n",
    "\"\"\"\n",
    "## Data sources\n",
    "Given a DOI, citing publications are fetched from [OpenAlex](https://openalex.org/).\n",
    "\n",
    "Publications are then classified as clinical trials using [PubMed](https://pubmed.ncbi.nlm.nih.gov/).\n",
    "\"\"\"\n",
    ")"
   ]
  },
  {
   "cell_type": "markdown",
   "id": "e804358a",
   "metadata": {},
   "source": [
    "## Layout\n",
    "\n",
    "- add components to page"
   ]
  },
  {
   "cell_type": "code",
   "execution_count": null,
   "id": "22faed63",
   "metadata": {},
   "outputs": [],
   "source": [
    "template = pn.template.BootstrapTemplate(\n",
    "    title='Is my research used in clinical trials?',\n",
    "    busy_indicator=pn.indicators.LoadingSpinner(size=40, value=True, color='primary', bgcolor='light')\n",
    ")\n",
    "template.main.append(\n",
    "    pn.Row(\n",
    "        pn.Column(\n",
    "            tb_doi,\n",
    "            status_text,\n",
    "            pane_plot_citations,\n",
    "            description\n",
    "        ),\n",
    "        pn.Column(\n",
    "            pn.Row(cb_trial, slider_year),\n",
    "            widget_table\n",
    "        )\n",
    "    )\n",
    ")\n",
    "\n",
    "# make page servable\n",
    "template.servable();  # ; to prevent inline output / use preview instead"
   ]
  },
  {
   "cell_type": "code",
   "execution_count": null,
   "id": "3a119b03",
   "metadata": {},
   "outputs": [],
   "source": []
  }
 ],
 "metadata": {
  "jupytext": {
   "cell_metadata_filter": "-all",
   "notebook_metadata_filter": "kernel"
  },
  "kernelspec": {
   "display_name": "Python 3 (ipykernel)",
   "language": "python",
   "name": "python3"
  }
 },
 "nbformat": 4,
 "nbformat_minor": 5
}
